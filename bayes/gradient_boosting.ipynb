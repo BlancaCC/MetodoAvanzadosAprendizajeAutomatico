{
 "cells": [
  {
   "attachments": {},
   "cell_type": "markdown",
   "metadata": {},
   "source": [
    "# GRADIENT BOOSTING"
   ]
  },
  {
   "attachments": {},
   "cell_type": "markdown",
   "metadata": {},
   "source": [
    "Comenzamos importando todas aquellas librerías y funciones que vamos a utilizar a lo largo de la práctica:"
   ]
  },
  {
   "cell_type": "code",
   "execution_count": 178,
   "metadata": {},
   "outputs": [],
   "source": [
    "%matplotlib inline\n",
    "import numpy as np\n",
    "import scipy as sp\n",
    "from scipy import stats\n",
    "import matplotlib.pyplot as plt\n",
    "from sklearn.tree import DecisionTreeRegressor\n",
    "import pandas as pd\n",
    "from sklearn.model_selection import train_test_split\n",
    "from sklearn.preprocessing import LabelBinarizer\n",
    "from sklearn.model_selection import train_test_split"
   ]
  },
  {
   "attachments": {},
   "cell_type": "markdown",
   "metadata": {},
   "source": [
    "A continuación, se definen tres funciones: *createDataSet()*, *plotModel()* y *plotData()*. Las utilizaremos para implementar el algoritmo de *gradient boosting*."
   ]
  },
  {
   "cell_type": "code",
   "execution_count": 179,
   "metadata": {},
   "outputs": [],
   "source": [
    "def createDataSet(n,model,ymargin,noise=None,output_boundary=False):\n",
    "    x = np.random.rand(n,1)*2.0*np.pi\n",
    "    xbnd = np.linspace(0,2.0*np.pi,100)\n",
    "\n",
    "    if model == 'sine':\n",
    "        y = (np.random.rand(n,1) - 0.5)*2.2\n",
    "        c = y > np.sin(x)\n",
    "        ybnd = np.sin(xbnd)\n",
    "    elif model == 'linear':\n",
    "        y = np.random.rand(n,1)*2.0*np.pi\n",
    "        c = y > x\n",
    "        ybnd = xbnd\n",
    "    elif model == 'square':\n",
    "        y = np.random.rand(n,1)*4.0*np.pi*np.pi\n",
    "        c = y > x*x\n",
    "        ybnd = xbnd*xbnd\n",
    "    else:\n",
    "        y = np.random.rand(n,1)*2.0*np.pi\n",
    "        c = y > x\n",
    "        ybnd = xbnd\n",
    "    \n",
    "    y[c == True] = y[c == True] + ymargin\n",
    "    y[c == False] = y[c == False] - ymargin\n",
    "    \n",
    "    if noise is not None:\n",
    "        y = y + noise * np.random.randn(n,1)\n",
    "        x = x + noise * np.random.randn(n,1)\n",
    "\n",
    "    if output_boundary == True:\n",
    "        return x, y, (c*1).ravel(), xbnd, ybnd\n",
    "    else:\n",
    "        return x, y, (c*1).ravel()"
   ]
  },
  {
   "cell_type": "code",
   "execution_count": 180,
   "metadata": {},
   "outputs": [],
   "source": [
    "def plotModel(x,y,clase,clf,title=\"\"):\n",
    "    from matplotlib.colors import ListedColormap\n",
    "    \n",
    "    x_min, x_max = x.min() - .2, x.max() + .2\n",
    "    y_min, y_max = y.min() - .2, y.max() + .2\n",
    "    hx = (x_max - x_min)/100.\n",
    "    hy = (y_max - y_min)/100.\n",
    "    xx, yy = np.meshgrid(np.arange(x_min, x_max, hx), np.arange(y_min, y_max, hy))\n",
    "\n",
    "    if hasattr(clf, \"decision_function\"):\n",
    "        z = clf.decision_function(np.c_[xx.ravel(), yy.ravel()])\n",
    "    elif hasattr(clf, \"predict_proba\"):\n",
    "        z = clf.predict_proba(np.c_[xx.ravel(), yy.ravel()])[:, 1]\n",
    "    else:\n",
    "        z = clf.predict(np.c_[xx.ravel(), yy.ravel()])\n",
    "\n",
    "    z = z.reshape(xx.shape)\n",
    "    cm = plt.cm.RdBu\n",
    "    cm_bright = ListedColormap(['#FF0000', '#0000FF'])\n",
    "    \n",
    "    plt.contourf(xx, yy, z, cmap=cm, alpha=.8)\n",
    "    plt.contour(xx, yy, z, [0.5], linewidths=[2], colors=['k'])\n",
    "\n",
    "    if clase is not None:\n",
    "        plt.scatter(x[clase==0], y[clase==0], c='#FF0000')\n",
    "        plt.scatter(x[clase==1], y[clase==1], c='#0000FF')\n",
    "    else:\n",
    "        plt.plot(x,y,'g', linewidth=3)\n",
    "        \n",
    "    plt.gca().set_xlim(xx.min(), xx.max())\n",
    "    plt.gca().set_ylim(yy.min(), yy.max())\n",
    "    plt.grid(True)\n",
    "    plt.xlabel(\"X\")\n",
    "    plt.ylabel(\"Y\")\n",
    "    plt.title(title)"
   ]
  },
  {
   "cell_type": "code",
   "execution_count": 181,
   "metadata": {},
   "outputs": [],
   "source": [
    "def plotData(x,y,c,style0,style1,title=''):\n",
    "    plt.scatter(x[c==0],y[c==0],**style0)\n",
    "    plt.scatter(x[c==1],y[c==1],**style1)\n",
    "    plt.grid(True)\n",
    "    plt.axis([x.min()-0.2, x.max()+0.2, y.min()-0.2, y.max()+0.2])\n",
    "    plt.xlabel(\"X\")\n",
    "    plt.ylabel(\"Y\")\n",
    "    plt.title(title)\n",
    "    plt.show()"
   ]
  },
  {
   "attachments": {},
   "cell_type": "markdown",
   "metadata": {},
   "source": [
    "El algoritmo del *gradient boosting* es una técnica de aprendizaje automático a partir del cuál se consigue establecer un modelo predictivo mediante un conjunto de árboles de decisión entrenados de forma individual.\n",
    "\n",
    "Dicho algoritmo, desde un punto de vista general, se encarga de encontrar una función $F$, que minimice la esperanza de la función $L(y,F(\\boldsymbol{x}))$, es decir, de encontrar un $\\hat{F}$ tal que\n",
    "\n",
    "$$\n",
    "\\hat{F} = \\argmin_F E_{\\boldsymbol{x},y}[L(y,F(\\boldsymbol{x}))] \n",
    "$$\n",
    "\n",
    "Lo llevaremos a cabo, minimizando su estimación \n",
    "\n",
    "$$\n",
    "\\hat{F} = \\argmin_F \\sum_{i=1}^N L(y_i,F(\\boldsymbol{x}_i))\n",
    "$$\n",
    "\n",
    "para el conjunto de datos de entrenamiento $D = \\{(\\boldsymbol{x}_i,y_i)\\}_{i=1}^N$.\n",
    "\n",
    "Esta función $F$, se construye en base al modelo iterativo\n",
    "\n",
    "$$\n",
    "F_t(\\boldsymbol{x}) = F_{t-1}(\\boldsymbol{x}) + \\rho_t h_t(\\boldsymbol{x})\n",
    "$$\n",
    "\n",
    "siendo\n",
    "\n",
    "$$\n",
    "F_0 = \\argmin_{\\gamma} \\sum_{i=1}^N L(y_i,\\gamma)\n",
    "$$\n",
    "\n",
    "para todo parámetro real $\\gamma$. \n"
   ]
  },
  {
   "attachments": {},
   "cell_type": "markdown",
   "metadata": {},
   "source": [
    "Este algoritmo se va a implementar para regresión y para clasificación binaria con clases igual a $-1$ y $+1$."
   ]
  },
  {
   "attachments": {},
   "cell_type": "markdown",
   "metadata": {},
   "source": [
    "De este modo, vamos a definir dos clases correspondientes para cada implementación, donde se vamos a definir los parámetros que se van a utilizar respectivamente."
   ]
  },
  {
   "attachments": {},
   "cell_type": "markdown",
   "metadata": {},
   "source": [
    "En primer lugar, para regresión vamos a considerar los siguiente:\n",
    "\n",
    "Parámetro de inicialización:\n",
    "$$\n",
    "F_0 = \\frac{1}{N}\\sum_{i = 1}^N y_i\n",
    "$$\n",
    "\n",
    "Residuos:\n",
    "$$\n",
    "r_{ti} = y_i - F_{t-1}(\\boldsymbol{x_i})\n",
    "$$\n",
    "\n",
    "Multiplicador:\n",
    "$$\n",
    "\\rho_t=1\n",
    "$$"
   ]
  },
  {
   "cell_type": "code",
   "execution_count": 182,
   "metadata": {},
   "outputs": [],
   "source": [
    "\n",
    "class SquaredErrorLoss:\n",
    "    \"\"\" Clase que define elementos para la función cuadrática de perdida \n",
    "        para regresión \"\"\"\n",
    "    \n",
    "    def F0(_, X, y): \n",
    "        \"\"\" Calcula el valor constate que minimiza la salida 'y' \"\"\"\n",
    "        return np.mean(y)\n",
    "\n",
    "    def residuos(_,y, F):\n",
    "        \"\"\" Calcula los residuos para un objetivo 'y' y \n",
    "            una salida del modelo F \"\"\"\n",
    "        return  y - F\n",
    "\n",
    "    def paso_newton_hoja(_, y, residuos, valor):\n",
    "        \"\"\" Función para actualizar la salida de una hoja el árbol\n",
    "        \n",
    "           Recibe información sobre los ejemplos de una hoja dada. En concreto\n",
    "           para los ejemplos que caen en una hoja:\n",
    "              * El vector de valores a predecir (y)\n",
    "              * Los pseudo-residuos (residuos) sobre los que se ha\n",
    "                entrenado alarbol regresor ht\n",
    "           Además recine el valor actual de salida de la hoja\n",
    "              \n",
    "            Debe devolver el valor actualizado\n",
    "        \"\"\"\n",
    "        return valor\n",
    "        \n",
    "    \n",
    "    def __call__(self, y, F):\n",
    "        \"\"\" Devuelve el valor de la función de pérdida para un objetivo 'y' y \n",
    "            una salida del modelo F \"\"\"\n",
    "        return 0.5*(y-F)**2\n",
    "    \n",
    "    def predict_salida(self, y):\n",
    "        \"\"\" Devuelve el valor salida correspondiente a la predicción de los\n",
    "            valores X\"\"\"\n",
    "        return y"
   ]
  },
  {
   "attachments": {},
   "cell_type": "markdown",
   "metadata": {},
   "source": [
    "Por otro lado, para la implementación correspondiente a la clasificación binaria, consideraremos lo siguiente:\n",
    "\n",
    "Parámetro de inicialización:\n",
    "$$\n",
    "F_0 = \\frac{1}{2} \\log\\left(\\frac{1+\\overline{y}}{1-\\overline{y}}\\right)\n",
    "$$\n",
    "\n",
    "Residuos:\n",
    "$$\n",
    "r_{ti}=\\frac{2y_i}{1+e^{2y_iF_{t-1}(\\boldsymbol(x_i))}}\n",
    "$$\n",
    "\n",
    "Multiplicador:\n",
    "$$\n",
    "\\rho_{tj} = \\frac{\\sum_{\\boldsymbol{x}_i\\in R_j}r_{ti}}{\\sum_{\\boldsymbol{x}_i\\in R_j}|r_{ti}|(2-|r_{ti}|)}\n",
    "$$"
   ]
  },
  {
   "cell_type": "code",
   "execution_count": 183,
   "metadata": {},
   "outputs": [],
   "source": [
    "class LogLoss:\n",
    "    \"\"\" Clase que define elementos para la función logística de perdida \n",
    "        para clasificación de dos clases {-1, +1} \"\"\"\n",
    "    \n",
    "    def F0(_, X, y):\n",
    "        \"\"\" Calcula el valor constate que minimiza la salida 'y' \"\"\"\n",
    "        return 0.5*np.log((1+np.mean(y))/(1-np.mean(y)))\n",
    "\n",
    "    def residuos(_, y, F):\n",
    "        \"\"\" Calcula los residuos para un objetivo 'y' y \n",
    "            una salida del modelo F \"\"\"\n",
    "        return 2*y/(1+np.exp(2*y*F))\n",
    "\n",
    "    def paso_newton_hoja(_, y, residuos, valor):\n",
    "        \"\"\" Función para actualizar la salida de una hoja el árbol\n",
    "        \n",
    "           Recibe información sobre los ejemplos de una hoja dada. En concreto\n",
    "           para los ejemplos que caen en una hoja:\n",
    "              * El vector de valores a predecir (y)\n",
    "              * Los pseudo-residuos (residuos) sobre los que se ha\n",
    "                entrenado alarbol regresor ht\n",
    "           Además recine el valor actual de salida de la hoja\n",
    "              \n",
    "            Debe devolver el valor actualizado\n",
    "        \"\"\"\n",
    "        return sum(residuos)/sum((np.abs(residuos))*(2-np.abs(residuos)))\n",
    "    \n",
    "    def __call__(self,y, F):\n",
    "        \"\"\" Devuelve el valor de la función de pérdida para un objetivo 'y' y \n",
    "            una salida del modelo F \"\"\"\n",
    "        return np.log(1+np.exp(-2.0*y*F))\n",
    "    \n",
    "    def predict_salida(self, y):\n",
    "        \"\"\" Devuelve el valor salida correspondiente a la predicción de los\n",
    "            valores X\"\"\"\n",
    "        trans_y = 1 / (1 + np.exp(-2.0*y))\n",
    "        salida = []\n",
    "        if not isinstance(trans_y,np.ndarray):\n",
    "            trans_y = [trans_y]\n",
    "        for i in trans_y:\n",
    "            if i >= 0.5:\n",
    "                salida.append(1)\n",
    "            else:\n",
    "                salida.append(-1)\n",
    "        \n",
    "        return np.array(salida)"
   ]
  },
  {
   "attachments": {},
   "cell_type": "markdown",
   "metadata": {},
   "source": [
    "Por último, crearemos una tercera clase, donde se llevará a cabo la implementación del algoritmo, desde un punto de vista general. Se seguirán los siguientes pasos:\n",
    "\n",
    "1. Inicializaremos la función constante de inicialización $F_0$\n",
    "2. Para $i=1$ hasta el tamaño del conjunto, $T$:\n",
    "    \n",
    "    I. Calcularemos los residuos $r_{ti}$.\n",
    "\n",
    "    II. Ajustaremos un regresor $h(\\boldsymbol{x})$ correspondiente al dataset $\\{(\\boldsymbol{x}_i,r_{ti})\\}_{i=1}^N$.\n",
    "\n",
    "    III. Calcularemos los multiplicadores $\\rho_{t}$, mediante el método del paso Newton-Raphson.\n",
    "    \n",
    "    IV. Actualizaremos el modelo, a partir de la fórmula recursiva\n",
    "\n",
    "    $$\n",
    "    F_t(\\boldsymbol{x}) = F_{t-1}(\\boldsymbol{x}) + \\rho_t h_t(\\boldsymbol{x}).\n",
    "    $$\n"
   ]
  },
  {
   "cell_type": "code",
   "execution_count": 184,
   "metadata": {},
   "outputs": [],
   "source": [
    "class GBCasero:\n",
    "    def __init__(self, n_estimators=101, loss=SquaredErrorLoss(), eta=0.1, depth=3):\n",
    "        self.n_estimators = n_estimators\n",
    "        self._estimators  = []\n",
    "        self.depth        = depth\n",
    "        self.eta          = eta\n",
    "        # La implementación de loss se usará en fit para crear el algoritmo\n",
    "        # GB de forma genérica.\n",
    "        self.loss         = loss\n",
    "    \n",
    "    def fit(self,X,y):\n",
    "        \"\"\"\n",
    "          Inicializa GB \n",
    "        \"\"\"\n",
    "        class F0:\n",
    "            predict = lambda x: self.loss.F0(X, y)\n",
    "        self._estimators.append(F0)\n",
    "\n",
    "        #1. Inicializamos con un valor constante\n",
    "        self.F0 = self.loss.F0(X,y)\n",
    "        \n",
    "        #2. Para i=1 hasta el tamaño del conjunto T = self.n_estimators\n",
    "        for i in range(self.n_estimators):\n",
    "            \"\"\"\n",
    "              Rellenar esta parte para implementar GB \n",
    "              Se debe utilizar la función paso_newton de abajo\n",
    "            \"\"\"\n",
    "            #I. Calculamos los residuos para cada iteración\n",
    "            residuals = self.loss.residuos(y,self.predict(X))\n",
    "            #II. Ajustamos un regresor h(X) al dataset\n",
    "            tree = DecisionTreeRegressor(max_depth = self.depth)\n",
    "            tree.fit(X,residuals)\n",
    "            #III. Computamos el multiplicador con un paso Newton-Raphson \n",
    "            self.paso_newton_general(tree,X,y,residuals)\n",
    "            #IV. Actualizamos el modelo\n",
    "            self._estimators.append(tree)\n",
    "            \n",
    "            \n",
    "    def predict(self,X):\n",
    "        \"\"\" Combinamos los valores de pesos y hs para obtener la 'salida' o\n",
    "             predicciones en crudo, y que haga:\n",
    "               * Para regresión se devuelve 'salida'\n",
    "               * Para clasificación de 2 clases se calcula la probabilidad\n",
    "                  con una sigmoidal (1 / (1 + np.exp(-2*salida))) y se \n",
    "                  devuelve la clase más probable \n",
    "                  \n",
    "            Nota1: Podéis delegar esto a las funciones de pérdida para evitar \n",
    "                   poner aquí in if\n",
    "            Nota2: Podéis también organizar la clasificacion/regresion al estilo\n",
    "                   sklearn e implementar predict_proba en la clasificación.\n",
    "                \n",
    "        \"\"\"\n",
    "        salida = sum(i.predict(X)*self.eta for i in self._estimators)\n",
    "        \n",
    "        return self.loss.predict_salida(salida)\n",
    "    \n",
    "    def paso_newton_general(self, tree, X, y, residuos):\n",
    "        \"\"\" Esta función actualiza todas las hojas de salida\n",
    "            del árbol 'tree' utilizado la función paso_newton_hoja\n",
    "            de las clases de funcion de pérdida \"\"\"\n",
    "        TREE_LEAF = -1\n",
    "        tree = tree.tree_\n",
    "        leaf_indices = tree.apply(np.array(X,dtype=np.float32))\n",
    "        for leaf in np.where(tree.children_left == TREE_LEAF)[0]:\n",
    "            ii = leaf_indices==leaf\n",
    "            tree.value[leaf,0,0] = self.loss.paso_newton_hoja(y[ii],\n",
    "                                                              residuos[ii],\n",
    "                                                              tree.value[leaf,0,0])\n",
    "\n",
    "    \n"
   ]
  },
  {
   "attachments": {},
   "cell_type": "markdown",
   "metadata": {},
   "source": [
    "Ahora vamos a realizar una serie de pruebas para ambas implementaciones del algoritmo. Para lo cuál, comenzarmos definiendo los datos que vamos a utilizar. En este primer caso vamos a hacer la implementación para clasificación binaria. Para ello, definiremos dos dataset, uno sin ruido y otro con ruido."
   ]
  },
  {
   "cell_type": "code",
   "execution_count": 185,
   "metadata": {},
   "outputs": [],
   "source": [
    "# Problem data:\n",
    "np.random.seed(11)\n",
    "n = 300\n",
    "model = 'sine'\n",
    "ymargin = 0.\n",
    "noise = 0.0             \n",
    "noise_2 = 0.4\n",
    "\n",
    "x1, x2, ytrain, xbnd, ybnd = createDataSet(n, model, ymargin, noise, True)\n",
    "Xtrain = np.concatenate((x1, x2), axis = 1)\n",
    "x1_noise, x2_noise, ytrain_noise, xbnd_noise, ybnd_noise = createDataSet(n, model, ymargin, noise_2, True)\n",
    "Xtrain_noise = np.concatenate((x1_noise, x2_noise), axis = 1)\n",
    "\n",
    "x1test, x2test, ytest      = createDataSet(n*10, model, ymargin, noise)\n",
    "Xtest = np.concatenate((x1test, x2test), axis = 1)\n",
    "x1test_noise, x2test_noise, ytest_noise      = createDataSet(n*10, model, ymargin, noise_2)\n",
    "Xtest_noise = np.concatenate((x1test_noise, x2test_noise), axis = 1)"
   ]
  },
  {
   "cell_type": "code",
   "execution_count": 186,
   "metadata": {},
   "outputs": [
    {
     "data": {
      "image/png": "[encoded data removed]",
      "text/plain": [
       "<Figure size 432x288 with 1 Axes>"
      ]
     },
     "metadata": {
      "needs_background": "light"
     },
     "output_type": "display_data"
    }
   ],
   "source": [
    "plotData(x1,x2,ytrain,{'c':'#FF0000'},{'c':'#0000FF'})"
   ]
  },
  {
   "cell_type": "code",
   "execution_count": 187,
   "metadata": {},
   "outputs": [
    {
     "name": "stdout",
     "output_type": "stream",
     "text": [
      "Accuracy in Magic04= 0.851472134595163\n"
     ]
    }
   ],
   "source": [
    "# Magic\n",
    "fP = 'magic04.csv'\n",
    "dfP = pd.read_csv(fP, sep=',')\n",
    "\n",
    "X_tr, X_ts, y_tr, y_ts = train_test_split(dfP.values[:,:-1], dfP.values[:,-1], \n",
    "                                          test_size=0.8, random_state=1)\n",
    "lb   = LabelBinarizer(pos_label = 1, neg_label = -1)\n",
    "y_tr = lb.fit_transform(y_tr).ravel()\n",
    "y_ts = lb.transform(y_ts).ravel()\n",
    "\n",
    "gb = GBCasero(loss=LogLoss())\n",
    "#gb = GBCasero(loss=SquaredErrorLoss())\n",
    "\n",
    "gb.fit(X_tr, y_tr)\n",
    "print(\"Accuracy in Magic04=\",np.sum(gb.predict(X_ts)==y_ts)/len(y_ts))"
   ]
  },
  {
   "attachments": {},
   "cell_type": "markdown",
   "metadata": {},
   "source": [
    "## Regresión"
   ]
  },
  {
   "cell_type": "code",
   "execution_count": 188,
   "metadata": {},
   "outputs": [
    {
     "data": {
      "text/plain": [
       "[<matplotlib.lines.Line2D at 0x17f720e50>]"
      ]
     },
     "execution_count": 188,
     "metadata": {},
     "output_type": "execute_result"
    },
    {
     "data": {
      "image/png": "[encoded data removed]",
      "text/plain": [
       "<Figure size 432x288 with 1 Axes>"
      ]
     },
     "metadata": {
      "needs_background": "light"
     },
     "output_type": "display_data"
    }
   ],
   "source": [
    "n = 300\n",
    "f = lambda x: np.sin(x)\n",
    "sigma = 0.3\n",
    "X = np.random.rand(n,1)*3.0*np.pi\n",
    "Y = np.ravel(f(X))+ np.random.normal(0, sigma, n)\n",
    "sorted_index = np.argsort(X[:,0])\n",
    "\n",
    "fig = plt.figure()\n",
    "ax = plt.axes()\n",
    "Y = np.ravel(Y)\n",
    "ax.plot(X[sorted_index,0], Y[sorted_index])\n",
    "\n",
    "X_train, X_test, y_train, y_test = train_test_split(X, Y, test_size=0.5, random_state=42)"
   ]
  },
  {
   "cell_type": "code",
   "execution_count": 189,
   "metadata": {},
   "outputs": [
    {
     "name": "stdout",
     "output_type": "stream",
     "text": [
      "150 150\n"
     ]
    }
   ],
   "source": [
    "\n",
    "\n",
    "\n",
    "\n",
    "\n",
    "\n"
   ]
  },
  {
   "cell_type": "code",
   "execution_count": 190,
   "metadata": {},
   "outputs": [
    {
     "data": {
      "text/plain": [
       "<matplotlib.legend.Legend at 0x17f610d60>"
      ]
     },
     "execution_count": 190,
     "metadata": {},
     "output_type": "execute_result"
    },
    {
     "data": {
      "image/png": "[encoded data removed]",
      "text/plain": [
       "<Figure size 432x288 with 1 Axes>"
      ]
     },
     "metadata": {
      "needs_background": "light"
     },
     "output_type": "display_data"
    }
   ],
   "source": [
    "gb = GBCasero(loss=SquaredErrorLoss())\n",
    "gb.fit(X_train, y_train)\n",
    "predictions = gb.predict(X_test)\n",
    "colors = ['#0000FF', '#FF0000']\n",
    "sorted_index = np.argsort(X_test[:,0])\n",
    "\n",
    "\n",
    "plt.scatter(X_test[:,0], y_test, c=colors[0], label='Test')\n",
    "plt.plot(X_test[sorted_index,0], predictions[sorted_index], c=colors[1], linewidth=3, label = 'Predictions')\n",
    "plt.grid(True)\n",
    "plt.xlabel(\"X\")\n",
    "plt.ylabel(\"Y\")\n",
    "plt.legend()\n",
    "\n",
    "\n"
   ]
  },
  {
   "cell_type": "code",
   "execution_count": 191,
   "metadata": {},
   "outputs": [
    {
     "data": {
      "image/png": "[encoded data removed]",
      "text/plain": [
       "<Figure size 432x288 with 1 Axes>"
      ]
     },
     "metadata": {
      "needs_background": "light"
     },
     "output_type": "display_data"
    }
   ],
   "source": []
  },
  {
   "attachments": {},
   "cell_type": "markdown",
   "metadata": {},
   "source": [
    "## Conclusiones"
   ]
  },
  {
   "cell_type": "markdown",
   "metadata": {},
   "source": []
  }
 ],
 "metadata": {
  "kernelspec": {
   "display_name": "Python 3",
   "language": "python",
   "name": "python3"
  },
  "language_info": {
   "codemirror_mode": {
    "name": "ipython",
    "version": 3
   },
   "file_extension": ".py",
   "mimetype": "text/x-python",
   "name": "python",
   "nbconvert_exporter": "python",
   "pygments_lexer": "ipython3",
   "version": "3.10.9"
  },
  "orig_nbformat": 4,
  "vscode": {
   "interpreter": {
    "hash": "854ad7b50770bedaf0cab730b1aaabb765566ea98036f134b639e260bede141e"
   }
  }
 },
 "nbformat": 4,
 "nbformat_minor": 2
}
