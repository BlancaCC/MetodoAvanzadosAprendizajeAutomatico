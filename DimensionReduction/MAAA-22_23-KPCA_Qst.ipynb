{
 "cells": [
  {
   "cell_type": "code",
   "execution_count": 1,
   "metadata": {},
   "outputs": [],
   "source": [
    "import numpy as np\n",
    "\n",
    "import matplotlib\n",
    "import matplotlib.pyplot as plt\n",
    "\n",
    "matplotlib.rc('figure', figsize=(15, 5))\n",
    "seed = 123"
   ]
  },
  {
   "cell_type": "markdown",
   "metadata": {},
   "source": [
    "# Introduction"
   ]
  },
  {
   "cell_type": "markdown",
   "metadata": {},
   "source": [
    "This practical assignment consists in implementing a simplified version of the KernelPCA class of `sklearn`.\n",
    "\n",
    "This class will contain three public methods: `fit()`, `transform()` and `fit_transform()`."
   ]
  },
  {
   "cell_type": "markdown",
   "metadata": {},
   "source": [
    "# Implementation of KPCA"
   ]
  },
  {
   "cell_type": "markdown",
   "metadata": {},
   "source": [
    "## Requirements\n",
    "\n",
    "The objective of this assignment is to complete the class `KPCA` sketched below, which should contain at least the following methods.\n",
    "\n",
    "---\n",
    "```python\n",
    "__init__(self, n_components, kernel, gamma)\n",
    "```\n",
    "* This is the construction method for the class, with the following parameters:\n",
    "    * `n_components`: Reduced dimension.\n",
    "    * `kernel`: `'linear'` or `'rbf'`.\n",
    "    * `gamma`: Kernel parameter $\\gamma$ of the RBF kernel.\n",
    "* This method should only store the parameters in fields of the class, to be used when needed.\n",
    "\n",
    "---\n",
    "```python\n",
    "fit(self, X)\n",
    "```\n",
    "* This is the training method, with the following parameters:\n",
    "    * `X`: Training data matrix $\\mathbf{X}$.\n",
    "* This method should compute the projecting direction, storing the useful information in fields of the class.\n",
    "\n",
    "---\n",
    "```python\n",
    "transform(self, X)\n",
    "```\n",
    "* This is the method that computes the projection, with the following parameters:\n",
    "    * `X`: New data matrix $\\mathbf{X}$.\n",
    "* This method will used the stored information in the class for projecting new points.\n",
    "---\n",
    "```python\n",
    "fit_transform(self, X)\n",
    "```\n",
    "* This method firstly fit the model, and latter apply it over the training data, with the following parameters:\n",
    "    * `X`: Training data matrix $\\mathbf{X}$.\n",
    "* **NOTE**: This method can be implemented just calling the methods `fit` and `transform`; but also it can be computed more efficiently by theoretically computing the projection in this case. If this second approach is chosen, a brief explanation of why the implemented code is working will be required."
   ]
  },
  {
   "cell_type": "markdown",
   "metadata": {},
   "source": [
    "### Some recommendations:\n",
    "\n",
    "* We will not pay attention to the dataset size when solving the eigenvector problem, the examples used will be simple ones. We recommend the use of `eigs` from `scipy` that computes only the first `k` eigenvalues and eigenvectors. It will be necessary to ensure that the eigenvectors are ordered in terms of the largest eigenvalues.\n",
    "* The projection direction should be deterministic, so the eigenvectors finded should be flipped in terms of their sign to obtain always the same result.\n",
    "* Data should be centered inside the method (so the data has zero mean, but the std remains the same), being careful to also center the new data points.\n",
    "* Remember that the projection direction should have norm 1. This means that during the training the computed eigenvectors should be properly normalized and stored once normalized."
   ]
  },
  {
   "cell_type": "markdown",
   "metadata": {},
   "source": [
    "## Implementation"
   ]
  },
  {
   "cell_type": "markdown",
   "metadata": {},
   "source": [
    "<div class=\"qst\">\n",
    "\n",
    "* Complete the `KPCA` class below, satisfying the described requirements.\n",
    "\n",
    "</div>"
   ]
  },
  {
   "cell_type": "markdown",
   "metadata": {},
   "source": [
    "## Explicación teórica del algoritmo \n",
    "\n",
    "Dado un conjunto de $n$ datos de dimensión $d$, expresado matricialmente como $X \\in \\R^{n \\times d}$ se pretende reducir su dimensionalidad  a $p < d$  resultando $\\hat X \\in \\R^{n \\times p}$ con la restricción de maximizar la varianza de los datos resultantes. \n",
    "\n",
    "- Para ello se realizará una transformación  $\\phi$ de los datos. \n",
    "- Para después realizar una proyección de los datos $V \\phi(X)$.\n",
    "Supondremos que $\\bar{\\phi(X)} = 0$\n",
    "\n",
    "Con una notación de vector por filas, la varianza de los dados vendrá dada por \n",
    "$$S = \\frac{1}{N} \\phi(x_i) \\phi(x_i)^T.$$\n",
    "\n",
    "\n",
    "Podemos expresar el problema como uno de optimización: \n",
    "donde $u$ será el vector a proyectar,imponemos  que sea de norma 1 para evitar. \n",
    "(Para una dimensión)\n",
    "$$\\max_{u} Var(u X) + \\lambda (1 - u u^T)$$\n",
    "$$\n",
    "\\max_{u} \\frac{1}{N} u  + \\lambda (1 - u u^T)\n",
    "$$"
   ]
  },
  {
   "cell_type": "code",
   "execution_count": 2,
   "metadata": {},
   "outputs": [],
   "source": [
    "from sklearn.metrics.pairwise import rbf_kernel, linear_kernel\n",
    "from sklearn.preprocessing import KernelCenterer, StandardScaler\n",
    "from scipy.sparse.linalg import eigs\n",
    "\n",
    "class KPCA():\n",
    "    \"\"\"\n",
    "        Kernel PCA.\n",
    "    \"\"\"\n",
    "    def __init__(self, n_components, kernel, gamma=None):\n",
    "        '''\n",
    "        Configuración de los valores iniciales para el método de reducción de dimensionalidad Kernel PCA\n",
    "        Parámetros: \n",
    "        - `n_component`: número de componentes. \n",
    "        - `kernel`: string o function, si es un string debe de ser `linear` o `rbf`\n",
    "        - `gamma : float `: Hiperparámetro del método de Kernel PCA \n",
    "        '''\n",
    "        # Assignment of the hyper-parameters (complete).\n",
    "        \n",
    "        self.n_components = n_components # Dimensión a reducir \n",
    "        self.kernel = kernel\n",
    "\n",
    "        # Comprobaciones del gamma \n",
    "        if gamma != None and not (isinstance(gamma, float) or isinstance(gamma, int)) :\n",
    "            raise AttributeError(f'Not valid gamma type, should be an integer or float but {type(gamma)} found')\n",
    "        if (isinstance(gamma, float) or isinstance(gamma, int)) and gamma < 0: \n",
    "            raise AttributeError(f'Not valid gamma value, should be positive but {gamma} found')\n",
    "        \n",
    "        # Asignamos una función adicional\n",
    "        if self.kernel == 'rbf':\n",
    "            self.kernel_function= lambda X, Y : rbf_kernel(X, Y, gamma)\n",
    "        elif self.kernel == 'linear':\n",
    "            self.kernel_function = lambda X, Y: linear_kernel(X, Y)\n",
    "        elif callable(kernel): # Permitimos que además se le pueda añadir una función adicional\n",
    "            self.kernel_function = kernel\n",
    "        else:\n",
    "            raise AttributeError(f'Not valid kernel type: {self.kernel}')\n",
    "\n",
    "        \n",
    "    def fit(self, X):\n",
    "        # Computation of the projection direction (complete).\n",
    "        # ...\n",
    "    \n",
    "        self.X_fit = X\n",
    "        # Sacamos el kernel\n",
    "        K = np.array(self.kernel_function(X, X))\n",
    "        \n",
    "        self.transformer = KernelCenterer().fit(K)\n",
    "        self.centered_kernel_matrix= self.transformer.transform(K)\n",
    "        \n",
    "        \n",
    "        valores_propios , vectores_propios = eigs(self.centered_kernel_matrix, self.n_components)\n",
    "        self.vectores_propios = vectores_propios.real.T\n",
    "\n",
    "        vectores_propios = list(map(self._flip, self.vectores_propios))\n",
    "        self.valores_propios = valores_propios.real.T\n",
    "        valor_vector = list(zip(valores_propios.real, self.vectores_propios))\n",
    "       \n",
    "        \n",
    "        # ordenamos en orden de vector propio\n",
    "        valor_vector.sort(key = lambda k: k[0], reverse = True) \n",
    "        \n",
    "        # Escalar la a  y orientar \n",
    "        self.a_escalada = list( map( lambda k: k[1]/ np.sqrt(k[0]), valor_vector) )\n",
    "        \n",
    "        \n",
    "        return self\n",
    "\n",
    "    def transform(self, X):\n",
    "        # Computation of the projected components (complete).\n",
    "        # TODO comprobar el funcionamiento de la matriz de kernel centrada\n",
    "        \n",
    "        kernel_matrix = self.kernel_function(X, self.X_fit) # Kernel sin centrar\n",
    "        kernel_matrix = self.transformer.transform(kernel_matrix) # central kernel\n",
    "        return self.a_escalada @ kernel_matrix\n",
    "\n",
    "    def fit_transform(self, X ):\n",
    "        # Computation of the projected components over X just after training with it (complete).\n",
    "        # Este sería la buena, pa no tener que almacenarla\n",
    "        self.fit(X)\n",
    "        return self.valores_propios @ self.centered_kernel_matrix\n",
    "\n",
    "\n",
    "    def _flip(self, v):\n",
    "        ''' Ajusta el signo determinista\n",
    "        Memoria: Tras consultar el comportamiento determiento de sklearn, determina la dirección \n",
    "        del vector a partir del coeficiente mayor. \n",
    "        \n",
    "        Sign correction to ensure deterministic output from SVD.\n",
    "    Adjusts the columns of u and the rows of v such that the loadings in the\n",
    "    columns in u that are largest in absolute value are always positive.\n",
    "\n",
    "        '''\n",
    "        max_abs_rows = np.argmax(np.abs(v))\n",
    "        signs = np.sign(v[max_abs_rows])\n",
    "        v *= signs\n",
    "        return v\n",
    "    \n"
   ]
  },
  {
   "cell_type": "markdown",
   "metadata": {},
   "source": [
    "\n",
    "# --- Borrar --- Prueba el rbf\n",
    "def muestraSimple(Xx,Xy, Y, title):\n",
    "    plt.scatter(Xx, Xy,c=Y, label='train')\n",
    "    plt.title(title)\n",
    "    plt.legend()\n",
    "    plt.show()\n",
    "    \n",
    "from sklearn.decomposition import KernelPCA\n",
    "from sklearn.datasets import make_blobs\n",
    "\n",
    "kernel = 'rbf'\n",
    "#kernel = 'linear'\n",
    "n_components=1\n",
    "\n",
    "X, y = make_blobs(random_state=seed)\n",
    "X_train = X[:90,:]; y_train=y[:90]\n",
    "X_new = X[90:,:]; y_new=y[90:]\n",
    "\n",
    "# Model definition\n",
    "model_my = KPCA(n_components=n_components, kernel=kernel)\n",
    "model_sk = KernelPCA(kernel=kernel, n_components=n_components)\n",
    "\n",
    "# Training of the models \n",
    "model_my.fit(X_train)\n",
    "model_sk.fit(X_train)\n",
    "muestraSimple(model_my.transform(X_train), X_train[:,1],y_train,f'{kernel} Model my train transform')\n",
    "muestraSimple(model_sk.transform(X_train), X_train[:,1],y_train,f'{kernel} Model de sklearn')\n",
    "muestraSimple(model_sk.fit_transform(X_train), X_train[:,1],y_train,f'{kernel} Fit transform sklearn')\n",
    "        \n",
    "\n",
    "       "
   ]
  },
  {
   "cell_type": "markdown",
   "metadata": {},
   "source": [
    "## Comparative with *scikit-learn*"
   ]
  },
  {
   "cell_type": "markdown",
   "metadata": {},
   "source": [
    "The following cell generates the *blobs* dataset and depicts it."
   ]
  },
  {
   "cell_type": "code",
   "execution_count": 3,
   "metadata": {},
   "outputs": [
    {
     "name": "stdout",
     "output_type": "stream",
     "text": [
      "(90, 2)\n"
     ]
    },
    {
     "data": {
      "image/png": "[encoded data removed]",
      "text/plain": [
       "<Figure size 1080x360 with 1 Axes>"
      ]
     },
     "metadata": {
      "needs_background": "light"
     },
     "output_type": "display_data"
    }
   ],
   "source": [
    "from sklearn.datasets import make_blobs\n",
    "X, y = make_blobs(random_state=seed)\n",
    "X_train = X[:90,:]; y_train=y[:90]\n",
    "X_new = X[90:,:]; y_new=y[90:]\n",
    "print(X_train.shape)\n",
    "\n",
    "\n",
    "plt.scatter(X_train[:,0], X_train[:,1],c=y_train, label='train')\n",
    "plt.scatter(X_new[:,0], X_new[:,1], c=y_new, marker='s', label='new')\n",
    "plt.legend()\n",
    "plt.show()\n",
    "\n",
    "def muestraSimple(Xx,Xy, Y, title):\n",
    "    plt.scatter(Xx, Xy,c=Y, label='train')\n",
    "    plt.title(title)\n",
    "    plt.legend()\n",
    "    plt.show()"
   ]
  },
  {
   "cell_type": "markdown",
   "metadata": {},
   "source": [
    "<div class=\"qst\">\n",
    "\n",
    "* Train and transform a classical PCA model over the training data (`X_train`), using both the implemented `KPCA` class using a linear kernel and the `PCA` class of `sklearn`.\n",
    "* Transform using the previous two models the new data (`X_new`).\n",
    "* Compare that both classes provide the same outputs (in terms of the eigenvectors and the data projections), describing the obtained results.\n",
    "</div>"
   ]
  },
  {
   "cell_type": "markdown",
   "metadata": {},
   "source": [
    "## Explicación \n",
    "\n",
    "### Apartado 2: Comparative of the eigenvectors \n",
    "\n",
    "#### Obtención vector propio para PCA \n",
    "\n",
    "De acorde a la documentación oficial de sklearn para PCA [ver](https://scikit-learn.org/stable/modules/generated/sklearn.decomposition.PCA.html) consultada por última vez el 22 de noviembre del 2022. \n",
    "El atributo `components_` devuelve: \n",
    "```\n",
    "components_ndarray of shape (n_components, n_features)\n",
    "Principal axes in feature space, representing the directions of maximum variance in the data. Equivalently, the right singular vectors of the centered input data, parallel to its eigenvectors. The components are sorted by explained_variance_.\n",
    "```\n",
    "\n",
    "Es decir PCA calcula $ X = U D_X V^T$ y devuelve el vector propio $v_1$ asociado al mayor valor propio. Esto tiene la ventaja de que permite decir la dirección en que la varianza es máxima. \n",
    "\n",
    "En nuestro caso,calculamos la matriz de covarianza $\\Sigma$\n",
    "$\\Sigma =  U D_\\Sigma V^T$. \n",
    "\n",
    "Como resultado de esto se verá que difieren en tamaño, que es lo que procedemos a mostrar en el código de ejemplo. \n",
    "\n"
   ]
  },
  {
   "cell_type": "code",
   "execution_count": null,
   "metadata": {},
   "outputs": [],
   "source": []
  },
  {
   "cell_type": "markdown",
   "metadata": {},
   "source": [
    "\n",
    "### Apartado 3: Comparación de las proyecciones  \n",
    "\n",
    "La comparación se hará de manera visual"
   ]
  },
  {
   "cell_type": "code",
   "execution_count": 4,
   "metadata": {},
   "outputs": [
    {
     "name": "stdout",
     "output_type": "stream",
     "text": [
      "Sklearn tamaño de los componentes (1, 2)\n"
     ]
    }
   ],
   "source": [
    "from sklearn.decomposition import PCA\n",
    "\n",
    "kernel = 'linear'\n",
    "n_components=1\n",
    "\n",
    "model_my = KPCA(n_components=n_components, kernel='linear')\n",
    "model_sk = PCA(n_components=n_components)\n",
    "\n",
    "# Apartado 1: Training of the model\n",
    "#model_my.fit(X_train)\n",
    "model_sk.fit(X_train)\n",
    "\n",
    "# Apartado 2: Comparative of the eigenvectors.\n",
    "# ...\n",
    "print('Sklearn tamaño de los componentes',model_sk.components_.shape)\n",
    "#print('Nuestra implementación, tamaño vector ',model_my.a_escalada[0].shape)\n",
    "\n",
    "\n",
    "# Comparative of the projections \n"
   ]
  },
  {
   "cell_type": "code",
   "execution_count": 5,
   "metadata": {},
   "outputs": [
    {
     "ename": "ValueError",
     "evalue": "matmul: Input operand 1 has a mismatch in its core dimension 0, with gufunc signature (n?,k),(k,m?)->(n?,m?) (size 90 is different from 1)",
     "output_type": "error",
     "traceback": [
      "\u001b[0;31m---------------------------------------------------------------------------\u001b[0m",
      "\u001b[0;31mValueError\u001b[0m                                Traceback (most recent call last)",
      "\u001b[0;32m/var/folders/6x/92l244517zjbjbndy62lk_9m0000gn/T/ipykernel_2768/3412994167.py\u001b[0m in \u001b[0;36m<module>\u001b[0;34m\u001b[0m\n\u001b[0;32m----> 1\u001b[0;31m \u001b[0mmodel_my\u001b[0m\u001b[0;34m.\u001b[0m\u001b[0mfit_transform\u001b[0m\u001b[0;34m(\u001b[0m\u001b[0mX_train\u001b[0m\u001b[0;34m)\u001b[0m\u001b[0;34m\u001b[0m\u001b[0;34m\u001b[0m\u001b[0m\n\u001b[0m",
      "\u001b[0;32m/var/folders/6x/92l244517zjbjbndy62lk_9m0000gn/T/ipykernel_2768/989587368.py\u001b[0m in \u001b[0;36mfit_transform\u001b[0;34m(self, X)\u001b[0m\n\u001b[1;32m     78\u001b[0m         \u001b[0;31m# Este sería la buena, pa no tener que almacenarla\u001b[0m\u001b[0;34m\u001b[0m\u001b[0;34m\u001b[0m\u001b[0m\n\u001b[1;32m     79\u001b[0m         \u001b[0mself\u001b[0m\u001b[0;34m.\u001b[0m\u001b[0mfit\u001b[0m\u001b[0;34m(\u001b[0m\u001b[0mX\u001b[0m\u001b[0;34m)\u001b[0m\u001b[0;34m\u001b[0m\u001b[0;34m\u001b[0m\u001b[0m\n\u001b[0;32m---> 80\u001b[0;31m         \u001b[0;32mreturn\u001b[0m \u001b[0mself\u001b[0m\u001b[0;34m.\u001b[0m\u001b[0mvalores_propios\u001b[0m \u001b[0;34m@\u001b[0m \u001b[0mself\u001b[0m\u001b[0;34m.\u001b[0m\u001b[0mcentered_kernel_matrix\u001b[0m\u001b[0;34m\u001b[0m\u001b[0;34m\u001b[0m\u001b[0m\n\u001b[0m\u001b[1;32m     81\u001b[0m \u001b[0;34m\u001b[0m\u001b[0m\n\u001b[1;32m     82\u001b[0m \u001b[0;34m\u001b[0m\u001b[0m\n",
      "\u001b[0;31mValueError\u001b[0m: matmul: Input operand 1 has a mismatch in its core dimension 0, with gufunc signature (n?,k),(k,m?)->(n?,m?) (size 90 is different from 1)"
     ]
    }
   ],
   "source": [
    "model_my.fit_transform(X_train)"
   ]
  },
  {
   "cell_type": "code",
   "execution_count": null,
   "metadata": {},
   "outputs": [],
   "source": [
    "muestraSimple(X_train[:,0], X_train[:,1], y_train, 'Datos train sin proyectar')\n",
    "muestraSimple(model_my.fit_transform(X_train), X_train[:,1],y_train,'Model de fit_transform')\n",
    "for X_train,y_train in [(X_train,y_train), (X_new, y_new)]:\n",
    "    muestraSimple(model_my.transform(X_train), X_train[:,1],y_train,'Model my train transform')\n",
    "    muestraSimple(model_sk.transform(X_train), X_train[:,1],y_train,'Model de sklearn')\n"
   ]
  },
  {
   "cell_type": "markdown",
   "metadata": {},
   "source": [
    "<div class=\"qst\">\n",
    "\n",
    "* Train and transform a Kernel PCA model using a RBF kernel over the training data (`X_train`), calling both the implemented `KPCA` class and the `KernelPCA` class of `sklearn`.\n",
    "* Transform using the previous two models the new data (`X_new`).\n",
    "* Compare that both classes provide the same outputs (in terms of the eigenvectors and the data projections), describing the obtained results.\n",
    "</div>"
   ]
  },
  {
   "cell_type": "code",
   "execution_count": null,
   "metadata": {},
   "outputs": [],
   "source": [
    "from sklearn.decomposition import KernelPCA\n",
    "\n",
    "kernel = 'rbf'\n",
    "n_components=1\n",
    "\n",
    "# Model definition \n",
    "model_my = KPCA(n_components=n_components, kernel='rbf')\n",
    "model_sk = KernelPCA(kernel=kernel, n_components=n_components)\n",
    "\n",
    "# Training of the models \n",
    "model_my.fit(X_train)\n",
    "model_sk.fit(X_train)\n",
    "\n",
    "# Comparative of the eigenvectors (complete).\n",
    "\n",
    "print('Sklearn tamaño de los componentes',model_sk.eigenvectors_.shape)\n",
    "print('Nuestra implementación, tamaño vector ',model_my.a_escalada[0].shape)\n",
    "print('Sklearn tamaño de los componentes',model_sk.eigenvectors_)\n",
    "print('Nuestra implementación, tamaño vector ',model_my.a_escalada[0])\n",
    "# Comparative of the projections (complete).\n",
    "muestraSimple(X_train[:,0], X_train[:,1], y_train, 'Datos train sin proyectar')\n",
    "muestraSimple(model_my.fit_transform(X_train), X_train[:,1],y_train,'Model de fit_transform')\n",
    "for X_train,y_train in [(X_train,y_train), (X_new, y_new)]:\n",
    "    muestraSimple(model_my.transform(X_train), X_train[:,1],y_train,'Model my train transform')\n",
    "    muestraSimple(model_sk.transform(X_train), X_train[:,1],y_train,'Model de sklearn')\n"
   ]
  },
  {
   "cell_type": "markdown",
   "metadata": {},
   "source": [
    "## Comparing linear kernel against Gaussian kernel"
   ]
  },
  {
   "cell_type": "code",
   "execution_count": null,
   "metadata": {
    "scrolled": false
   },
   "outputs": [],
   "source": [
    "from sklearn.datasets import make_moons\n",
    "\n",
    "X, y = make_moons(noise=1e-1, random_state=seed)\n",
    "\n",
    "plt.scatter(X[:,0], X[:,1],c=y)"
   ]
  },
  {
   "cell_type": "markdown",
   "metadata": {},
   "source": [
    "<div class=\"qst\">\n",
    "\n",
    "* Using the implemented class `KPCA` compare the result of transforming the above dataset using a linear kernel and an RBF one (looking for an appropriated hyperparameter `gamma` value).\n",
    "* Is there some model able to properly project the classes separately?\n",
    "</div>"
   ]
  },
  {
   "cell_type": "markdown",
   "metadata": {},
   "source": [
    "## Primero vamos a determinar el valor del gamma utilizando una rejilla de búsqueda \n",
    "\n",
    "La inspección será visual. "
   ]
  },
  {
   "cell_type": "code",
   "execution_count": null,
   "metadata": {},
   "outputs": [],
   "source": [
    "gammas = [0.01, 0.5, 1, 2, 9,10,11,12, 20]# np.linspace(0.1,5,20)\n",
    "gammas = np.linspace(9,16, 20)\n",
    "for g in gammas: \n",
    "    model_rbf = KPCA(n_components=n_components, kernel='rbf', gamma= g)\n",
    "    \n",
    "    #model_rbf = KernelPCA(n_components=n_components, kernel='rbf', gamma= g)\n",
    "    model_rbf.fit(X)\n",
    "    muestraSimple(model_rbf.transform(X), X[:,1],y,f'Model de transform for gamma = {g}')"
   ]
  },
  {
   "cell_type": "code",
   "execution_count": null,
   "metadata": {},
   "outputs": [],
   "source": [
    "gamma = 12 # Valor sacado con el de sklearn\n",
    "\n",
    "n_components=1\n",
    "\n",
    "model_linear = KPCA(n_components=n_components, kernel='linear')\n",
    "model_rbf = KPCA(n_components=n_components, kernel='rbf')\n",
    "\n",
    "# Training of the models (complete).\n",
    "# ...\n",
    "\n",
    "# Comparative of the projections (complete).\n",
    "# ..."
   ]
  }
 ],
 "metadata": {
  "@webio": {
   "lastCommId": null,
   "lastKernelId": null
  },
  "kernelspec": {
   "display_name": "Python 3 (ipykernel)",
   "language": "python",
   "name": "python3"
  },
  "language_info": {
   "codemirror_mode": {
    "name": "ipython",
    "version": 3
   },
   "file_extension": ".py",
   "mimetype": "text/x-python",
   "name": "python",
   "nbconvert_exporter": "python",
   "pygments_lexer": "ipython3",
   "version": "3.9.7"
  },
  "toc": {
   "base_numbering": 1,
   "nav_menu": {},
   "number_sections": false,
   "sideBar": true,
   "skip_h1_title": false,
   "title_cell": "Table of Contents",
   "title_sidebar": "Contents",
   "toc_cell": false,
   "toc_position": {
    "height": "calc(100% - 180px)",
    "left": "10px",
    "top": "150px",
    "width": "352px"
   },
   "toc_section_display": true,
   "toc_window_display": false
  },
  "vscode": {
   "interpreter": {
    "hash": "854ad7b50770bedaf0cab730b1aaabb765566ea98036f134b639e260bede141e"
   }
  }
 },
 "nbformat": 4,
 "nbformat_minor": 2
}
