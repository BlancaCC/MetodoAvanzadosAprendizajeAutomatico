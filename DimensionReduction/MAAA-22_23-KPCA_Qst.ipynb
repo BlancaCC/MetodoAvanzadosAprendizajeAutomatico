{
 "cells": [
  {
   "cell_type": "markdown",
   "metadata": {},
   "source": [
    "<div class=\"title\">Practical Assignment: Dimensionality Reduction</div>\n",
    "<div class=\"subtitle\">Métodos Avanzados en Aprendizaje Automático</div>\n",
    "<div class=\"author\">Ángela Fernández Pascual - Universidad Autónoma de Madrid</div>\n",
    "\n",
    "---"
   ]
  },
  {
   "cell_type": "markdown",
   "metadata": {},
   "source": [
    "**Initial Configuration**"
   ]
  },
  {
   "cell_type": "markdown",
   "metadata": {},
   "source": [
    "This cell defines the configuration of Jupyter Notebooks."
   ]
  },
  {
   "cell_type": "code",
   "execution_count": 1,
   "metadata": {},
   "outputs": [
    {
     "data": {
      "text/html": [
       "<head><link rel=\"stylesheet\" href=\"style.css\"></head>\n"
      ],
      "text/plain": [
       "<IPython.core.display.HTML object>"
      ]
     },
     "metadata": {},
     "output_type": "display_data"
    }
   ],
   "source": [
    "%%html\n",
    "<head><link rel=\"stylesheet\" href=\"style.css\"></head>"
   ]
  },
  {
   "cell_type": "code",
   "execution_count": null,
   "metadata": {},
   "outputs": [],
   "source": [
    "%matplotlib inline\n",
    "%load_ext autoreload\n",
    "%autoreload 2"
   ]
  },
  {
   "cell_type": "markdown",
   "metadata": {},
   "source": [
    "This cell imports the packages to be used (all of them quite standard)."
   ]
  },
  {
   "cell_type": "code",
   "execution_count": null,
   "metadata": {},
   "outputs": [],
   "source": [
    "import numpy as np\n",
    "\n",
    "import matplotlib\n",
    "import matplotlib.pyplot as plt\n",
    "\n",
    "matplotlib.rc('figure', figsize=(15, 5))\n",
    "seed = 123"
   ]
  },
  {
   "cell_type": "markdown",
   "metadata": {},
   "source": [
    "# Introduction"
   ]
  },
  {
   "cell_type": "markdown",
   "metadata": {},
   "source": [
    "This practical assignment consists in implementing a simplified version of the KernelPCA class of `sklearn`.\n",
    "\n",
    "This class will contain three public methods: `fit()`, `transform()` and `fit_transform()`."
   ]
  },
  {
   "cell_type": "markdown",
   "metadata": {},
   "source": [
    "# Implementation of KPCA"
   ]
  },
  {
   "cell_type": "markdown",
   "metadata": {},
   "source": [
    "## Requirements\n",
    "\n",
    "The objective of this assignment is to complete the class `KPCA` sketched below, which should contain at least the following methods.\n",
    "\n",
    "---\n",
    "```python\n",
    "__init__(self, n_components, kernel, gamma)\n",
    "```\n",
    "* This is the construction method for the class, with the following parameters:\n",
    "    * `n_components`: Reduced dimension.\n",
    "    * `kernel`: `'linear'` or `'rbf'`.\n",
    "    * `gamma`: Kernel parameter $\\gamma$ of the RBF kernel.\n",
    "* This method should only store the parameters in fields of the class, to be used when needed.\n",
    "\n",
    "---\n",
    "```python\n",
    "fit(self, X)\n",
    "```\n",
    "* This is the training method, with the following parameters:\n",
    "    * `X`: Training data matrix $\\mathbf{X}$.\n",
    "* This method should compute the projecting direction, storing the useful information in fields of the class.\n",
    "\n",
    "---\n",
    "```python\n",
    "transform(self, X)\n",
    "```\n",
    "* This is the method that computes the projection, with the following parameters:\n",
    "    * `X`: New data matrix $\\mathbf{X}$.\n",
    "* This method will used the stored information in the class for projecting new points.\n",
    "---\n",
    "```python\n",
    "fit_transform(self, X)\n",
    "```\n",
    "* This method firstly fit the model, and latter apply it over the training data, with the following parameters:\n",
    "    * `X`: Training data matrix $\\mathbf{X}$.\n",
    "* **NOTE**: This method can be implemented just calling the methods `fit` and `transform`; but also it can be computed more efficiently by theoretically computing the projection in this case. If this second approach is chosen, a brief explanation of why the implemented code is working will be required."
   ]
  },
  {
   "cell_type": "markdown",
   "metadata": {},
   "source": [
    "### Some recommendations:\n",
    "\n",
    "* We will not pay attention to the dataset size when solving the eigenvector problem, the examples used will be simple ones. We recommend the use of `eigs` from `scipy` that computes only the first `k` eigenvalues and eigenvectors. It will be necessary to ensure that the eigenvectors are ordered in terms of the largest eigenvalues.\n",
    "* The projection direction should be deterministic, so the eigenvectors finded should be flipped in terms of their sign to obtain always the same result.\n",
    "* Data should be centered inside the method (so the data has zero mean, but the std remains the same), being careful to also center the new data points.\n",
    "* Remember that the projection direction should have norm 1. This means that during the training the computed eigenvectors should be properly normalized and stored once normalized."
   ]
  },
  {
   "cell_type": "markdown",
   "metadata": {},
   "source": [
    "## Implementation"
   ]
  },
  {
   "cell_type": "markdown",
   "metadata": {},
   "source": [
    "<div class=\"qst\">\n",
    "\n",
    "* Complete the `KPCA` class below, satisfying the described requirements.\n",
    "\n",
    "</div>"
   ]
  },
  {
   "cell_type": "code",
   "execution_count": null,
   "metadata": {},
   "outputs": [],
   "source": [
    "from sklearn.metrics.pairwise import rbf_kernel\n",
    "\n",
    "class KPCA():\n",
    "    \"\"\"\n",
    "        Kernel PCA.\n",
    "    \"\"\"\n",
    "    def __init__(self, n_components, kernel, gamma=None):\n",
    "        # Assignment of the hyper-parameters (complete).\n",
    "        self.n_components = n_components\n",
    "        # ...\n",
    "\n",
    "    def fit(self, X):\n",
    "        # Computation of the projection direction (complete).\n",
    "        # ...\n",
    "        return self\n",
    "\n",
    "    def transform(self, X):\n",
    "        # Computation of the projected components (complete).\n",
    "        # ...\n",
    "        return np.zeros(X.shape[0])\n",
    "\n",
    "    def fit_transform(self, X):\n",
    "        # Computation of the projected components over X just after training with it (complete).\n",
    "        # ...\n",
    "        return np.zeros(X.shape[0])"
   ]
  },
  {
   "cell_type": "markdown",
   "metadata": {},
   "source": [
    "# Experiments with KPCA"
   ]
  },
  {
   "cell_type": "markdown",
   "metadata": {},
   "source": [
    "## Comparative with *scikit-learn*"
   ]
  },
  {
   "cell_type": "markdown",
   "metadata": {},
   "source": [
    "The following cell generates the *blobs* dataset and depicts it."
   ]
  },
  {
   "cell_type": "code",
   "execution_count": null,
   "metadata": {},
   "outputs": [],
   "source": [
    "from sklearn.datasets import make_blobs\n",
    "X, y = make_blobs(random_state=seed)\n",
    "X_train = X[:90,:]; y_train=y[:90]\n",
    "X_new = X[90:,:]; y_new=y[90:]\n",
    "\n",
    "plt.scatter(X_train[:,0], X_train[:,1],c=y_train, label='train')\n",
    "plt.scatter(X_new[:,0], X_new[:,1], c=y_new, marker='s', label='new')\n",
    "plt.legend()\n",
    "plt.show()"
   ]
  },
  {
   "cell_type": "markdown",
   "metadata": {},
   "source": [
    "<div class=\"qst\">\n",
    "\n",
    "* Train and transform a classical PCA model over the training data (`X_train`), using both the implemented `KPCA` class using a linear kernel and the `PCA` class of `sklearn`.\n",
    "* Transform using the previous two models the new data (`X_new`).\n",
    "* Compare that both classes provide the same outputs (in terms of the eigenvectors and the data projections), describing the obtained results.\n",
    "</div>"
   ]
  },
  {
   "cell_type": "code",
   "execution_count": null,
   "metadata": {},
   "outputs": [],
   "source": [
    "from sklearn.decomposition import PCA\n",
    "\n",
    "kernel = 'linear'\n",
    "n_components=1\n",
    "\n",
    "model_my = KPCA(n_components=n_components, kernel='linear')\n",
    "model_sk = PCA(n_components=n_components)\n",
    "\n",
    "# Training of the models (complete).\n",
    "# ...\n",
    "\n",
    "# Comparative of the eigenvectors (complete).\n",
    "# ...\n",
    "\n",
    "# Comparative of the projections (complete).\n",
    "# ..."
   ]
  },
  {
   "cell_type": "markdown",
   "metadata": {},
   "source": [
    "<div class=\"qst\">\n",
    "\n",
    "* Train and transform a Kernel PCA model using a RBF kernel over the training data (`X_train`), calling both the implemented `KPCA` class and the `KernelPCA` class of `sklearn`.\n",
    "* Transform using the previous two models the new data (`X_new`).\n",
    "* Compare that both classes provide the same outputs (in terms of the eigenvectors and the data projections), describing the obtained results.\n",
    "</div>"
   ]
  },
  {
   "cell_type": "code",
   "execution_count": null,
   "metadata": {},
   "outputs": [],
   "source": [
    "from sklearn.decomposition import KernelPCA\n",
    "\n",
    "kernel = 'rbf'\n",
    "n_components=1\n",
    "\n",
    "# Model definition (complete).\n",
    "model_my = KPCA()\n",
    "model_sk = KernelPCA()\n",
    "\n",
    "# Training of the models (complete).\n",
    "# ...\n",
    "\n",
    "# Comparative of the eigenvectors (complete).\n",
    "# ...\n",
    "\n",
    "# Comparative of the projections (complete).\n",
    "# ..."
   ]
  },
  {
   "cell_type": "markdown",
   "metadata": {},
   "source": [
    "## Comparing linear kernel against Gaussian kernel"
   ]
  },
  {
   "cell_type": "code",
   "execution_count": null,
   "metadata": {
    "scrolled": false
   },
   "outputs": [],
   "source": [
    "from sklearn.datasets import make_moons\n",
    "\n",
    "X, y = make_moons(noise=1e-1, random_state=seed)\n",
    "\n",
    "plt.scatter(X[:,0], X[:,1],c=y)"
   ]
  },
  {
   "cell_type": "markdown",
   "metadata": {},
   "source": [
    "<div class=\"qst\">\n",
    "\n",
    "* Using the implemented class `KPCA` compare the result of transforming the above dataset using a linear kernel and an RBF one (looking for an appropriated hyperparameter `gamma` value).\n",
    "* Is there some model able to properly project the classes separately?\n",
    "</div>"
   ]
  },
  {
   "cell_type": "code",
   "execution_count": null,
   "metadata": {},
   "outputs": [],
   "source": [
    "n_components=1\n",
    "\n",
    "model_linear = KPCA(n_components=n_components, kernel='linear')\n",
    "model_rbf = KPCA(n_components=n_components, kernel='rbf')\n",
    "\n",
    "# Training of the models (complete).\n",
    "# ...\n",
    "\n",
    "# Comparative of the projections (complete).\n",
    "# ..."
   ]
  }
 ],
 "metadata": {
  "@webio": {
   "lastCommId": null,
   "lastKernelId": null
  },
  "kernelspec": {
   "display_name": "Python 3 (ipykernel)",
   "language": "python",
   "name": "python3"
  },
  "language_info": {
   "codemirror_mode": {
    "name": "ipython",
    "version": 3
   },
   "file_extension": ".py",
   "mimetype": "text/x-python",
   "name": "python",
   "nbconvert_exporter": "python",
   "pygments_lexer": "ipython3",
   "version": "3.9.12"
  },
  "toc": {
   "base_numbering": 1,
   "nav_menu": {},
   "number_sections": false,
   "sideBar": true,
   "skip_h1_title": false,
   "title_cell": "Table of Contents",
   "title_sidebar": "Contents",
   "toc_cell": false,
   "toc_position": {
    "height": "calc(100% - 180px)",
    "left": "10px",
    "top": "150px",
    "width": "352px"
   },
   "toc_section_display": true,
   "toc_window_display": false
  }
 },
 "nbformat": 4,
 "nbformat_minor": 2
}
